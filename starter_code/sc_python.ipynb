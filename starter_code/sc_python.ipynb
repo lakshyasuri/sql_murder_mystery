{
 "cells": [
  {
   "cell_type": "code",
   "execution_count": 10,
   "metadata": {},
   "outputs": [],
   "source": [
    "import pandas as pd\n",
    "import sqlite3\n",
    "pd.set_option('max_colwidth', 1000)"
   ]
  },
  {
   "cell_type": "code",
   "execution_count": 11,
   "metadata": {},
   "outputs": [],
   "source": [
    "conn = sqlite3.connect('../Data/sql-murder-mystery.db')\n",
    "\n",
    "crime_scene_report = pd.read_sql_query(\"SELECT * FROM crime_scene_report\", conn)\n",
    "facebook_event_checkin = pd.read_sql_query(\"SELECT * FROM facebook_event_checkin\", conn)\n",
    "get_fit_now_member = pd.read_sql_query(\"SELECT * FROM get_fit_now_member\", conn)\n",
    "get_fit_now_check_in = pd.read_sql_query(\"SELECT * FROM get_fit_now_check_in\", conn)\n",
    "interview = pd.read_sql_query(\"SELECT * FROM interview\", conn)\n",
    "person = pd.read_sql_query(\"SELECT * FROM person\", conn)\n",
    "income = pd.read_sql_query(\"SELECT * FROM income\", conn)\n",
    "drivers_license = pd.read_sql_query(\"SELECT * FROM drivers_license\", conn)"
   ]
  }
 ],
 "metadata": {
  "kernelspec": {
   "display_name": "Python 3.9.13 64-bit (microsoft store)",
   "language": "python",
   "name": "python3"
  },
  "language_info": {
   "codemirror_mode": {
    "name": "ipython",
    "version": 3
   },
   "file_extension": ".py",
   "mimetype": "text/x-python",
   "name": "python",
   "nbconvert_exporter": "python",
   "pygments_lexer": "ipython3",
   "version": "3.9.13"
  },
  "orig_nbformat": 4,
  "vscode": {
   "interpreter": {
    "hash": "649c00151b7804c6ffc67978f413c54e93255dc94f4a98227ecdf50b2b22cab9"
   }
  }
 },
 "nbformat": 4,
 "nbformat_minor": 2
}
